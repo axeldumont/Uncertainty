{
 "cells": [
  {
   "cell_type": "code",
   "execution_count": 1,
   "metadata": {},
   "outputs": [],
   "source": [
    "import warnings\n",
    "warnings.filterwarnings(\"ignore\")"
   ]
  },
  {
   "cell_type": "code",
   "execution_count": 2,
   "metadata": {},
   "outputs": [],
   "source": [
    "import swa_gaussian.swag.posteriors as posteriors\n",
    "import swa_gaussian.swag.utils as utils\n",
    "import swa_gaussian.swag.losses as losses\n",
    "import torch\n",
    "import numpy as np\n",
    "import torch.optim\n",
    "import torch.utils.data\n",
    "from tqdm import tqdm\n",
    "from matplotlib import pyplot as plt\n",
    "from collections import deque\n",
    "import typing\n",
    "import time\n",
    "import tabulate\n",
    "\n",
    "import torchvision.models as models\n",
    "device = torch.device(\"cuda:0\" if torch.cuda.is_available() else \"cpu\")"
   ]
  },
  {
   "cell_type": "code",
   "execution_count": 3,
   "metadata": {},
   "outputs": [],
   "source": [
    "# Hyperparameters\n",
    "LEARNING_RATE = 0.01\n",
    "EPOCHS = 100\n",
    "BATCH_SIZE = 128\n",
    "SWAG_START_EPOCH = 20  # after how many epochs of training to start collecting samples for SWAG\n",
    "K_SWAG = 30  # maximum number of columns in deviation matrix D\n",
    "UPDATE_INTERVAL = 1  # how often to update the SWAG model\n",
    "BMA = 20  # number of samples to use for Bayesian model averaging\n",
    "EVAL_INTERVAL = 10  # how often to evaluate the model\n",
    "CIFAR10 = True  # whether to use CIFAR-10 or CIFAR-100"
   ]
  },
  {
   "cell_type": "code",
   "execution_count": 4,
   "metadata": {},
   "outputs": [],
   "source": [
    "if CIFAR10:\n",
    "    model_base = models.resnet18(pretrained=False, num_classes=10).to(device)\n",
    "else:\n",
    "    model_base = models.resnet18(pretrained=False, num_classes=100).to(device)\n",
    "    \n",
    "swag = posteriors.SWAG(model_base, no_cov_mat=True, max_num_models=K_SWAG).to(device)"
   ]
  },
  {
   "cell_type": "code",
   "execution_count": 5,
   "metadata": {},
   "outputs": [
    {
     "name": "stdout",
     "output_type": "stream",
     "text": [
      "Files already downloaded and verified\n",
      "Files already downloaded and verified\n"
     ]
    }
   ],
   "source": [
    "import torchvision.transforms as transforms\n",
    "import torchvision\n",
    "\n",
    "\n",
    "# Data augmentation and normalization\n",
    "transform_train = transforms.Compose([\n",
    "    transforms.RandomCrop(32, padding=4),\n",
    "    transforms.RandomHorizontalFlip(),\n",
    "    transforms.ToTensor(),\n",
    "    transforms.Normalize((0.4914, 0.4822, 0.4465), (0.2023, 0.1994, 0.2010)),\n",
    "])\n",
    "\n",
    "transform_test = transforms.Compose([\n",
    "    transforms.ToTensor(),\n",
    "    transforms.Normalize((0.4914, 0.4822, 0.4465), (0.2023, 0.1994, 0.2010)),\n",
    "])\n",
    "# Load CIFAR-10 dataset\n",
    "if CIFAR10:\n",
    "    trainset = torchvision.datasets.CIFAR10(root='./data', train=True, download=True, transform=transform_train)\n",
    "else:\n",
    "    trainset = torchvision.datasets.CIFAR100(root='./data', train=True, download=True, transform=transform_train)\n",
    "\n",
    "trainloader = torch.utils.data.DataLoader(trainset, batch_size=BATCH_SIZE, shuffle=True, num_workers=2)\n",
    "\n",
    "if CIFAR10:\n",
    "    testset = torchvision.datasets.CIFAR10(root='./data', train=False, download=True, transform=transform_test)\n",
    "else:\n",
    "    testset = torchvision.datasets.CIFAR100(root='./data', train=False, download=True, transform=transform_test)\n",
    "    \n",
    "testloader = torch.utils.data.DataLoader(testset, batch_size=BATCH_SIZE, shuffle=False, num_workers=2)"
   ]
  },
  {
   "cell_type": "code",
   "execution_count": 6,
   "metadata": {},
   "outputs": [
    {
     "name": "stdout",
     "output_type": "stream",
     "text": [
      "----  --------  ---------  --------  ---------  --------  -------------  ------------  --------  -----------\n",
      "  ep        lr    tr_loss    tr_acc    te_loss    te_acc  swa_te_loss    swa_te_acc        time    mem_usage\n",
      "----  --------  ---------  --------  ---------  --------  -------------  ------------  --------  -----------\n",
      "   1    0.0100     1.6650   39.7360     1.4107   49.0600                                 7.1949       0.2275\n",
      "   2    0.0100     1.3179   52.6540                                                      5.4740       0.2275\n",
      "   3    0.0100     1.1529   58.9120                                                      5.6418       0.2275\n",
      "   4    0.0100     1.0361   63.1740                                                      5.5046       0.2275\n",
      "   5    0.0100     0.9623   65.8520                                                      5.3715       0.2275\n",
      "   6    0.0100     0.8970   68.3340                                                      5.4982       0.2275\n",
      "   7    0.0100     0.8449   70.2940                                                      5.5356       0.2275\n",
      "   8    0.0100     0.7909   72.1600                                                      5.4361       0.2275\n",
      "   9    0.0100     0.7652   72.9960                                                      5.2619       0.2275\n",
      "  10    0.0100     0.7295   74.2060                                                      5.3599       0.2275\n",
      "  11    0.0100     0.7005   75.3420     0.7485   74.4300                                 6.0423       0.2275\n",
      "  12    0.0100     0.6714   76.5520                                                      5.4826       0.2275\n",
      "  13    0.0100     0.6536   77.1040                                                      5.5003       0.2275\n",
      "  14    0.0100     0.6268   78.1380                                                      5.4945       0.2275\n",
      "  15    0.0100     0.6068   78.5900                                                      5.4164       0.2275\n",
      "  16    0.0100     0.5845   79.5320                                                      5.2624       0.2275\n",
      "  17    0.0100     0.5756   79.7860                                                      5.3736       0.2275\n",
      "  18    0.0100     0.5530   80.6220                                                      5.3492       0.2275\n",
      "  19    0.0100     0.5436   80.7860                                                      5.4751       0.2275\n",
      "  20    0.0100     0.5252   81.5120                                                      5.3391       0.2275\n",
      "  21    0.0100     0.5130   81.9680     0.6232   79.0000         0.5954       79.9400   11.8503       0.2696\n",
      "  22    0.0100     0.4823   83.0640                                                      5.3887       0.2710\n",
      "  23    0.0100     0.4725   83.4180                                                      5.3263       0.2705\n",
      "  24    0.0100     0.4766   83.1000                                                      5.5382       0.2710\n",
      "  25    0.0100     0.4762   83.1080                                                      5.4586       0.2696\n",
      "  26    0.0100     0.4739   83.2260                                                      5.4392       0.2710\n",
      "  27    0.0100     0.4765   83.2820                                                      5.5647       0.2705\n",
      "  28    0.0100     0.4770   83.1940                                                      5.6347       0.2710\n",
      "  29    0.0100     0.4743   83.1420                                                      5.3999       0.2696\n",
      "  30    0.0100     0.4724   83.4000                                                      5.5499       0.2710\n",
      "  31    0.0100     0.4732   83.4300     0.5978   79.9000         0.5954       79.9000   12.3741       0.2287\n",
      "  32    0.0100     0.4752   83.3340                                                      5.6218       0.2715\n",
      "  33    0.0100     0.4782   83.1460                                                      5.9927       0.2701\n",
      "  34    0.0100     0.4747   83.2920                                                      5.6761       0.2706\n",
      "  35    0.0100     0.4751   83.0480                                                      5.2075       0.2710\n",
      "  36    0.0100     0.4736   83.4040                                                      5.2591       0.2712\n",
      "  37    0.0100     0.4782   83.1880                                                      5.1406       0.2701\n",
      "  38    0.0100     0.4737   83.2100                                                      5.4381       0.2715\n",
      "  39    0.0100     0.4736   83.2480                                                      5.6304       0.2701\n",
      "  40    0.0100     0.4770   83.2120                                                      5.3708       0.2704\n",
      "----  --------  ---------  --------  ---------  --------  -------------  ------------  --------  -----------\n",
      "  ep        lr    tr_loss    tr_acc    te_loss    te_acc    swa_te_loss    swa_te_acc      time    mem_usage\n",
      "----  --------  ---------  --------  ---------  --------  -------------  ------------  --------  -----------\n",
      "  41    0.0100     0.4794   83.1700     0.5985   79.9300         0.5951       79.9000   12.1121       0.2271\n",
      "  42    0.0100     0.4737   83.4000                                                      5.8459       0.2710\n",
      "  43    0.0100     0.4758   83.1940                                                      5.5521       0.2705\n",
      "  44    0.0100     0.4776   83.2840                                                      5.3149       0.2710\n",
      "  45    0.0100     0.4773   83.1260                                                      5.3462       0.2710\n",
      "  46    0.0100     0.4743   83.3520                                                      5.5105       0.2705\n",
      "  47    0.0100     0.4755   83.2600                                                      5.2840       0.2710\n",
      "  48    0.0100     0.4738   83.2720                                                      5.2299       0.2705\n",
      "  49    0.0100     0.4756   83.3140                                                      5.4391       0.2710\n",
      "  50    0.0100     0.4759   83.2820                                                      5.5768       0.2705\n",
      "  51    0.0100     0.4722   83.4400     0.5958   79.8300         0.5954       79.9300   11.9938       0.2271\n",
      "  52    0.0098     0.4747   83.4280                                                      5.4687       0.2688\n",
      "  53    0.0095     0.4748   83.3680                                                      5.4586       0.2688\n",
      "  54    0.0093     0.4796   83.2340                                                      5.2052       0.2688\n",
      "  55    0.0090     0.4794   83.1080                                                      5.6504       0.2688\n",
      "  56    0.0088     0.4762   83.2160                                                      5.5033       0.2688\n",
      "  57    0.0085     0.4753   83.3480                                                      5.5357       0.2688\n",
      "  58    0.0083     0.4763   83.3380                                                      5.5671       0.2688\n",
      "  59    0.0080     0.4746   83.2960                                                      5.5116       0.2688\n",
      "  60    0.0078     0.4801   83.0280                                                      5.7782       0.2688\n",
      "  61    0.0075     0.4744   83.2000     0.5992   79.9400         0.5953       79.9200   12.1166       0.2276\n",
      "  62    0.0073     0.4739   83.3420                                                      5.9876       0.2693\n",
      "  63    0.0070     0.4748   83.3160                                                      5.7369       0.2693\n",
      "  64    0.0068     0.4732   83.3180                                                      5.4436       0.2688\n",
      "  65    0.0065     0.4758   83.2440                                                      5.7857       0.2693\n",
      "  66    0.0063     0.4747   83.2860                                                      5.5264       0.2693\n",
      "  67    0.0060     0.4736   83.2140                                                      5.6259       0.2688\n",
      "  68    0.0058     0.4761   83.1820                                                      5.6385       0.2693\n",
      "  69    0.0055     0.4768   83.3860                                                      5.5531       0.2688\n",
      "  70    0.0053     0.4773   83.1140                                                      5.4626       0.2693\n",
      "  71    0.0051     0.4758   83.2600     0.5985   79.8800         0.5956       79.9500   11.7666       0.2271\n",
      "  72    0.0048     0.4784   83.1760                                                      5.7049       0.2693\n",
      "  73    0.0046     0.4781   83.1940                                                      5.5713       0.2693\n",
      "  74    0.0043     0.4780   83.1060                                                      5.3264       0.2688\n",
      "  75    0.0041     0.4799   82.9800                                                      5.2660       0.2693\n",
      "  76    0.0038     0.4738   83.4280                                                      5.3778       0.2693\n",
      "  77    0.0036     0.4753   83.1360                                                      5.4873       0.2688\n",
      "  78    0.0033     0.4725   83.3680                                                      5.3261       0.2693\n",
      "  79    0.0031     0.4747   83.3080                                                      5.1337       0.2693\n",
      "  80    0.0028     0.4780   83.1200                                                      5.3013       0.2688\n",
      "----  --------  ---------  --------  ---------  --------  -------------  ------------  --------  -----------\n",
      "  ep        lr    tr_loss    tr_acc    te_loss    te_acc    swa_te_loss    swa_te_acc      time    mem_usage\n",
      "----  --------  ---------  --------  ---------  --------  -------------  ------------  --------  -----------\n",
      "  81    0.0026     0.4773   83.1500     0.5923   79.9100         0.5958       79.9100   11.6342       0.2271\n",
      "  82    0.0023     0.4760   83.5920                                                      5.5108       0.2688\n",
      "  83    0.0021     0.4769   83.2580                                                      5.4326       0.2688\n",
      "  84    0.0018     0.4749   83.3620                                                      5.4241       0.2688\n",
      "  85    0.0016     0.4770   83.1880                                                      5.5652       0.2688\n",
      "  86    0.0013     0.4725   83.2640                                                      5.4295       0.2688\n",
      "  87    0.0011     0.4780   83.3000                                                      5.4643       0.2688\n",
      "  88    0.0008     0.4720   83.2840                                                      5.5938       0.2688\n",
      "  89    0.0006     0.4736   83.2480                                                      5.0912       0.2688\n",
      "  90    0.0003     0.4773   83.1940                                                      5.6030       0.2688\n",
      "  91    0.0001     0.4757   83.1980     0.5972   79.9500         0.5957       79.9200   12.1748       0.2276\n",
      "  92    0.0001     0.4731   83.3540                                                      5.7669       0.2696\n",
      "  93    0.0001     0.4760   83.1780                                                      5.3192       0.2710\n",
      "  94    0.0001     0.4757   83.2000                                                      5.5204       0.2705\n",
      "  95    0.0001     0.4750   83.3380                                                      5.4000       0.2710\n",
      "  96    0.0001     0.4788   83.1500                                                      5.4609       0.2696\n",
      "  97    0.0001     0.4788   83.0980                                                      5.5223       0.2710\n",
      "  98    0.0001     0.4764   83.2360                                                      5.6867       0.2705\n",
      "  99    0.0001     0.4763   83.3240                                                      5.4246       0.2710\n",
      " 100    0.0001     0.4714   83.4400                                                      6.0900       0.2696\n"
     ]
    }
   ],
   "source": [
    "if CIFAR10:\n",
    "    num_classes = 10\n",
    "else:\n",
    "    num_classes = 100\n",
    "#opt2 = torch.optim.SGD(model_base.parameters(), lr=LEARNING_RATE, momentum=0.9, weight_decay=5e-4)\n",
    "def schedule(epoch):\n",
    "    t = (epoch) / (EPOCHS)\n",
    "    lr_ratio = 0.01\n",
    "    if t <= 0.5:\n",
    "        factor = 1.0\n",
    "    elif t <= 0.9:\n",
    "        factor = 1.0 - (1.0 - lr_ratio) * (t - 0.5) / 0.4\n",
    "    else:\n",
    "        factor = lr_ratio\n",
    "    return LEARNING_RATE * factor\n",
    "\n",
    "criterion = losses.cross_entropy\n",
    "optimizer = torch.optim.SGD(model_base.parameters(), lr=LEARNING_RATE, momentum=0.9, weight_decay=1e-4)\n",
    "\n",
    "columns = [\"ep\", \"lr\", \"tr_loss\", \"tr_acc\", \"te_loss\", \"te_acc\", \"time\", \"mem_usage\"]\n",
    "\n",
    "columns = columns[:-2] + [\"swa_te_loss\", \"swa_te_acc\"] + columns[-2:]\n",
    "swag_res = {\"loss\": None, \"accuracy\": None}\n",
    "\n",
    "sgd_ens_preds = None\n",
    "sgd_targets = None\n",
    "n_ensembled = 0.0\n",
    "\n",
    "for epoch in range(EPOCHS):\n",
    "    time_ep = time.time()\n",
    "    lr = schedule(epoch)\n",
    "    utils.adjust_learning_rate(optimizer, lr)\n",
    "    train_res = utils.train_epoch(trainloader, model_base, criterion, optimizer)\n",
    "    if epoch == EPOCHS - 1:\n",
    "        test_res = utils.eval(testloader, model_base, criterion)\n",
    "    else:\n",
    "        test_res = {\"loss\": None, \"accuracy\": None}\n",
    "    \n",
    "    if epoch % EVAL_INTERVAL == 0:\n",
    "        test_res = utils.eval(testloader, model_base, criterion)\n",
    "    else:\n",
    "        test_res = {\"loss\": None, \"accuracy\": None}\n",
    "    \n",
    "    if epoch >= SWAG_START_EPOCH and epoch % UPDATE_INTERVAL == 0:\n",
    "        n_ensembled += 1\n",
    "        swag.collect_model(model_base)\n",
    "        if epoch % EVAL_INTERVAL == 0:\n",
    "            swag.sample(0.0)\n",
    "            utils.bn_update(trainloader, swag)\n",
    "            swag_res = utils.eval(testloader, swag, criterion)\n",
    "        else:\n",
    "            swag_res = {\"loss\": None, \"accuracy\": None}\n",
    "\n",
    "    time_ep = time.time() - time_ep\n",
    "    memory_usage = torch.cuda.memory_allocated() / (1024.0 ** 3)\n",
    "\n",
    "    values = [\n",
    "        epoch + 1,\n",
    "        lr,\n",
    "        train_res[\"loss\"],\n",
    "        train_res[\"accuracy\"],\n",
    "        test_res[\"loss\"],\n",
    "        test_res[\"accuracy\"],\n",
    "        time_ep,\n",
    "        memory_usage,\n",
    "    ]\n",
    "\n",
    "    values = values[:-2] + [swag_res[\"loss\"], swag_res[\"accuracy\"]] + values[-2:]\n",
    "    table = tabulate.tabulate([values], columns, tablefmt=\"simple\", floatfmt=\"8.4f\")\n",
    "    if epoch % 40 == 0:\n",
    "        table = table.split(\"\\n\")\n",
    "        table = \"\\n\".join([table[1]] + table)\n",
    "    else:\n",
    "        table = table.split(\"\\n\")[2]\n",
    "    print(table)\n",
    "\n"
   ]
  },
  {
   "cell_type": "code",
   "execution_count": 7,
   "metadata": {},
   "outputs": [
    {
     "name": "stderr",
     "output_type": "stream",
     "text": [
      "100%|██████████| 79/79 [00:00<00:00, 104.82it/s]\n"
     ]
    },
    {
     "name": "stdout",
     "output_type": "stream",
     "text": [
      "Accuracy: 0.7991\n",
      "NLL: 5958.466025967853\n"
     ]
    },
    {
     "name": "stderr",
     "output_type": "stream",
     "text": [
      "100%|██████████| 79/79 [00:00<00:00, 104.19it/s]\n"
     ]
    },
    {
     "name": "stdout",
     "output_type": "stream",
     "text": [
      "Accuracy: 0.7992\n",
      "NLL: 5956.506228902754\n"
     ]
    },
    {
     "name": "stderr",
     "output_type": "stream",
     "text": [
      "100%|██████████| 79/79 [00:00<00:00, 115.64it/s]\n"
     ]
    },
    {
     "name": "stdout",
     "output_type": "stream",
     "text": [
      "Accuracy: 0.7995\n",
      "NLL: 5955.177053974156\n"
     ]
    },
    {
     "name": "stderr",
     "output_type": "stream",
     "text": [
      "100%|██████████| 79/79 [00:00<00:00, 105.27it/s]\n"
     ]
    },
    {
     "name": "stdout",
     "output_type": "stream",
     "text": [
      "Accuracy: 0.7993\n",
      "NLL: 5955.132050660144\n"
     ]
    },
    {
     "name": "stderr",
     "output_type": "stream",
     "text": [
      "100%|██████████| 79/79 [00:00<00:00, 107.67it/s]\n"
     ]
    },
    {
     "name": "stdout",
     "output_type": "stream",
     "text": [
      "Accuracy: 0.7994\n",
      "NLL: 5955.096752338592\n"
     ]
    },
    {
     "name": "stderr",
     "output_type": "stream",
     "text": [
      "100%|██████████| 79/79 [00:00<00:00, 112.99it/s]\n"
     ]
    },
    {
     "name": "stdout",
     "output_type": "stream",
     "text": [
      "Accuracy: 0.7995\n",
      "NLL: 5955.229090334362\n"
     ]
    },
    {
     "name": "stderr",
     "output_type": "stream",
     "text": [
      "100%|██████████| 79/79 [00:00<00:00, 100.82it/s]\n"
     ]
    },
    {
     "name": "stdout",
     "output_type": "stream",
     "text": [
      "Accuracy: 0.7995\n",
      "NLL: 5954.93273634601\n"
     ]
    },
    {
     "name": "stderr",
     "output_type": "stream",
     "text": [
      "100%|██████████| 79/79 [00:00<00:00, 119.77it/s]\n"
     ]
    },
    {
     "name": "stdout",
     "output_type": "stream",
     "text": [
      "Accuracy: 0.7995\n",
      "NLL: 5954.749584923988\n"
     ]
    },
    {
     "name": "stderr",
     "output_type": "stream",
     "text": [
      "100%|██████████| 79/79 [00:00<00:00, 108.61it/s]\n"
     ]
    },
    {
     "name": "stdout",
     "output_type": "stream",
     "text": [
      "Accuracy: 0.7995\n",
      "NLL: 5954.688700951938\n"
     ]
    },
    {
     "name": "stderr",
     "output_type": "stream",
     "text": [
      "100%|██████████| 79/79 [00:00<00:00, 106.11it/s]\n"
     ]
    },
    {
     "name": "stdout",
     "output_type": "stream",
     "text": [
      "Accuracy: 0.7995\n",
      "NLL: 5954.958370360169\n"
     ]
    },
    {
     "name": "stderr",
     "output_type": "stream",
     "text": [
      "100%|██████████| 79/79 [00:00<00:00, 106.81it/s]\n"
     ]
    },
    {
     "name": "stdout",
     "output_type": "stream",
     "text": [
      "Accuracy: 0.7995\n",
      "NLL: 5954.989677246867\n"
     ]
    },
    {
     "name": "stderr",
     "output_type": "stream",
     "text": [
      "100%|██████████| 79/79 [00:00<00:00, 100.62it/s]\n"
     ]
    },
    {
     "name": "stdout",
     "output_type": "stream",
     "text": [
      "Accuracy: 0.7994\n",
      "NLL: 5955.132376730075\n"
     ]
    },
    {
     "name": "stderr",
     "output_type": "stream",
     "text": [
      "100%|██████████| 79/79 [00:00<00:00, 105.41it/s]\n"
     ]
    },
    {
     "name": "stdout",
     "output_type": "stream",
     "text": [
      "Accuracy: 0.7994\n",
      "NLL: 5955.185980333023\n"
     ]
    },
    {
     "name": "stderr",
     "output_type": "stream",
     "text": [
      "100%|██████████| 79/79 [00:00<00:00, 111.05it/s]\n"
     ]
    },
    {
     "name": "stdout",
     "output_type": "stream",
     "text": [
      "Accuracy: 0.7994\n",
      "NLL: 5955.160993292906\n"
     ]
    },
    {
     "name": "stderr",
     "output_type": "stream",
     "text": [
      "100%|██████████| 79/79 [00:00<00:00, 114.01it/s]\n"
     ]
    },
    {
     "name": "stdout",
     "output_type": "stream",
     "text": [
      "Accuracy: 0.7995\n",
      "NLL: 5955.119716763492\n"
     ]
    },
    {
     "name": "stderr",
     "output_type": "stream",
     "text": [
      "100%|██████████| 79/79 [00:00<00:00, 104.73it/s]\n"
     ]
    },
    {
     "name": "stdout",
     "output_type": "stream",
     "text": [
      "Accuracy: 0.7996\n",
      "NLL: 5955.252094758159\n"
     ]
    },
    {
     "name": "stderr",
     "output_type": "stream",
     "text": [
      "100%|██████████| 79/79 [00:00<00:00, 117.83it/s]\n"
     ]
    },
    {
     "name": "stdout",
     "output_type": "stream",
     "text": [
      "Accuracy: 0.7994\n",
      "NLL: 5955.252564916397\n"
     ]
    },
    {
     "name": "stderr",
     "output_type": "stream",
     "text": [
      "100%|██████████| 79/79 [00:00<00:00, 110.40it/s]\n"
     ]
    },
    {
     "name": "stdout",
     "output_type": "stream",
     "text": [
      "Accuracy: 0.7994\n",
      "NLL: 5955.171031454161\n"
     ]
    },
    {
     "name": "stderr",
     "output_type": "stream",
     "text": [
      "100%|██████████| 79/79 [00:00<00:00, 114.80it/s]\n"
     ]
    },
    {
     "name": "stdout",
     "output_type": "stream",
     "text": [
      "Accuracy: 0.7994\n",
      "NLL: 5955.187713852239\n"
     ]
    },
    {
     "name": "stderr",
     "output_type": "stream",
     "text": [
      "100%|██████████| 79/79 [00:00<00:00, 102.80it/s]"
     ]
    },
    {
     "name": "stdout",
     "output_type": "stream",
     "text": [
      "Accuracy: 0.7994\n",
      "NLL: 5954.965732417482\n"
     ]
    },
    {
     "name": "stderr",
     "output_type": "stream",
     "text": [
      "\n"
     ]
    }
   ],
   "source": [
    "def nll(outputs, labels):\n",
    "    labels = labels.astype(int)\n",
    "    idx = (np.arange(labels.size), labels)\n",
    "    ps = outputs[idx]\n",
    "    nll = -np.sum(np.log(ps))\n",
    "    return nll\n",
    "\n",
    "\n",
    "predictions = np.zeros((len(testset), num_classes))\n",
    "targets = np.zeros(len(testset))\n",
    "\n",
    "for i in range(BMA):\n",
    "    swag.sample(scale=0.5)\n",
    "    utils.bn_update(trainloader, swag)\n",
    "\n",
    "    swag.eval()\n",
    "    k=0\n",
    "\n",
    "    for input, target in tqdm(testloader):\n",
    "\n",
    "        torch.manual_seed(i)\n",
    "        input = input.to(device)\n",
    "        output = swag(input)\n",
    "        with torch.no_grad():\n",
    "            predictions[k : k + input.size()[0]] += (\n",
    "                torch.nn.functional.softmax(output, dim=1).cpu().numpy()\n",
    "            )\n",
    "            targets[k : k + input.size()[0]] = target.numpy()\n",
    "        k += input.size()[0]\n",
    "    \n",
    "    print(\"Accuracy:\", np.mean(np.argmax(predictions, axis=1) == targets))\n",
    "    #nll is sum over entire dataset\n",
    "    print(\"NLL:\", nll(predictions / (i + 1), targets))\n",
    "\n",
    "predictions /= BMA"
   ]
  },
  {
   "cell_type": "code",
   "execution_count": 8,
   "metadata": {},
   "outputs": [],
   "source": [
    "def calc_calibration_curve(predicted_probabilities: np.ndarray, labels: np.ndarray, num_bins: int):\n",
    "    \"\"\"\n",
    "    Calculates a calibration curve to be used in reliability diagrams and returns an ECE\n",
    "    \"\"\"\n",
    "\n",
    "    num_samples, num_classes = predicted_probabilities.shape\n",
    "    predicted_classes = np.argmax(predicted_probabilities, axis=1)\n",
    "    confidences = predicted_probabilities[range(num_samples), predicted_classes]\n",
    "    bins = np.linspace(start=0, stop=1, num=num_bins + 1)\n",
    "\n",
    "    bin_lowers = bins[:-1]\n",
    "    bin_uppers = bins[1:]\n",
    "    accuracies = predicted_classes == labels\n",
    "\n",
    "    calib_confidence = np.zeros(num_bins, dtype=np.float32)\n",
    "    calib_accuracy = np.zeros(num_bins, dtype=np.float32)\n",
    "    ratios = np.zeros(num_bins, dtype=np.float32)\n",
    "    ece = 0.0\n",
    "\n",
    "    for bin_i, (bin_lower, bin_upper) in enumerate(zip(bin_lowers, bin_uppers)):\n",
    "        in_bin = (confidences > bin_lower) * (confidences < bin_upper)\n",
    "        prop_in_bin = in_bin.mean()\n",
    "        if prop_in_bin > 0:\n",
    "            accuracy_in_bin = accuracies[in_bin].mean()\n",
    "            avg_confidence_in_bin = confidences[in_bin].mean()\n",
    "            ece += np.abs(avg_confidence_in_bin - accuracy_in_bin) * prop_in_bin\n",
    "            calib_confidence[bin_i] = avg_confidence_in_bin\n",
    "            calib_accuracy[bin_i] = accuracy_in_bin\n",
    "            ratios[bin_i] = prop_in_bin\n",
    "\n",
    "    return {\n",
    "        \"calib_confidence\": calib_confidence,\n",
    "        \"calib_accuracy\": calib_accuracy,\n",
    "        \"p\": ratios,\n",
    "        \"bins\": bins,\n",
    "        \"ece\": ece,\n",
    "    }\n",
    "\n",
    "def draw_reliability_diagram(out, title=\"Reliability Diagram\", xlabel=\"Confidence\", ylabel=\"Accuracy\"):\n",
    "    \"\"\"Draws a reliability diagram into a subplot.\"\"\"\n",
    "    fig, ax = plt.subplots()\n",
    "    accuracies = out[\"calib_accuracy\"]\n",
    "    confidences = out[\"calib_confidence\"]\n",
    "    counts = out[\"p\"]\n",
    "    bins = out[\"bins\"]\n",
    "\n",
    "    bin_size = 1.0 / len(counts)\n",
    "    positions = bins[:-1] + bin_size / 2.0\n",
    "\n",
    "    widths = bin_size\n",
    "    alphas = 0.3\n",
    "\n",
    "    colors = np.zeros((len(counts), 4))\n",
    "    colors[:, 0] = 240 / 255.0\n",
    "    colors[:, 1] = 60 / 255.0\n",
    "    colors[:, 2] = 60 / 255.0\n",
    "    colors[:, 3] = alphas\n",
    "\n",
    "    gap_plt = ax.bar(\n",
    "        positions,\n",
    "        np.abs(accuracies - confidences),\n",
    "        bottom=np.minimum(accuracies, confidences),\n",
    "        width=widths,\n",
    "        edgecolor=colors,\n",
    "        color=colors,\n",
    "        linewidth=1,\n",
    "        label=\"Gap\",\n",
    "    )\n",
    "\n",
    "    acc_plt = ax.bar(\n",
    "        positions,\n",
    "        0,\n",
    "        bottom=accuracies,\n",
    "        width=widths,\n",
    "        edgecolor=\"black\",\n",
    "        color=\"black\",\n",
    "        alpha=1.0,\n",
    "        linewidth=3,\n",
    "        label=\"Accuracy\",\n",
    "    )\n",
    "\n",
    "    ax.set_aspect(\"equal\")\n",
    "    ax.plot([0, 1], [0, 1], linestyle=\"--\", color=\"gray\")\n",
    "\n",
    "    ax.set_xlim(0, 1)\n",
    "    ax.set_ylim(0, 1)\n",
    "    ax.set_title(title)\n",
    "    ax.set_xlabel(xlabel)\n",
    "    ax.set_ylabel(ylabel)\n",
    "    ax.legend(handles=[gap_plt, acc_plt])\n",
    "    fig.tight_layout()\n",
    "    return fig"
   ]
  },
  {
   "cell_type": "code",
   "execution_count": 9,
   "metadata": {},
   "outputs": [
    {
     "name": "stdout",
     "output_type": "stream",
     "text": [
      "\n",
      "Validation ECE: 0.038581730411201706\n"
     ]
    },
    {
     "data": {
      "image/png": "[encoded data removed]",
      "text/plain": [
       "<Figure size 640x480 with 1 Axes>"
      ]
     },
     "metadata": {},
     "output_type": "display_data"
    }
   ],
   "source": [
    "calibration_data_swag = calc_calibration_curve(predictions, targets, num_bins=20)\n",
    "\n",
    "print(\"\\nValidation ECE:\", calibration_data_swag[\"ece\"])\n",
    "\n",
    "fig = draw_reliability_diagram(calibration_data_swag)\n",
    "\n",
    "plt.show()"
   ]
  },
  {
   "cell_type": "code",
   "execution_count": 10,
   "metadata": {},
   "outputs": [
    {
     "name": "stdout",
     "output_type": "stream",
     "text": [
      "Accuracy: 0.7994\n",
      "F1 Score: 0.7987160952443905\n",
      "Precision: 0.7993738356712206\n",
      "Recall: 0.7994\n"
     ]
    }
   ],
   "source": [
    "pred_labels = np.argmax(predictions, axis=1)\n",
    "\n",
    "from sklearn.metrics import accuracy_score, f1_score, precision_score, recall_score\n",
    "\n",
    "print(\"Accuracy:\", accuracy_score(targets, pred_labels))\n",
    "print(\"F1 Score:\", f1_score(targets, pred_labels, average=\"weighted\"))\n",
    "print(\"Precision:\", precision_score(targets, pred_labels, average=\"weighted\"))\n",
    "print(\"Recall:\", recall_score(targets, pred_labels, average=\"weighted\"))"
   ]
  }
 ],
 "metadata": {
  "kernelspec": {
   "display_name": "Python 3",
   "language": "python",
   "name": "python3"
  },
  "language_info": {
   "codemirror_mode": {
    "name": "ipython",
    "version": 3
   },
   "file_extension": ".py",
   "mimetype": "text/x-python",
   "name": "python",
   "nbconvert_exporter": "python",
   "pygments_lexer": "ipython3",
   "version": "3.10.6"
  }
 },
 "nbformat": 4,
 "nbformat_minor": 2
}
